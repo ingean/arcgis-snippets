{
 "cells": [
  {
   "cell_type": "markdown",
   "metadata": {},
   "source": [
    "### Configure your ArcGIS Online or Enterprise cnonnections, and specify a group from your src_gis to be copied."
   ]
  },
  {
   "cell_type": "code",
   "execution_count": 1,
   "metadata": {},
   "outputs": [
    {
     "name": "stdout",
     "output_type": "stream",
     "text": [
      "Source Environment: geodatanyeveier @ GIS @ https://nyeveier.maps.arcgis.com version:8.4\n",
      "Target Environment: nvadmin @ GIS @ https://nyeveieras.maps.arcgis.com version:8.4\n"
     ]
    }
   ],
   "source": [
    "import arcgis\n",
    "src_gis_url = 'https://nyeveier.maps.arcgis.com/'     #https://grid3.maps.arcgis.com - can also use 'home' if you are running the notebook from the org you want to use as the src. \n",
    "src_group_id = 'groupid'\n",
    "src_gis_username = 'adminbruker' # Your username for the source organization\n",
    "src_gis_password = 'passord' # provide a password for that user, if None is left, you will be prompted to provide the password.\n",
    "\n",
    "target_gis_url = 'https://nyeveieras.maps.arcgis.com/'    #https://myneworg.maps.arcgis.coNm\n",
    "target_gis_username = 'adminbruker' # Username for Target Org\n",
    "target_gis_password = 'passord' # Password for Target Org\n",
    "target_folder_name = 'nymappe' #Name for the Folder in the target user's content that you want to copy content into.\n",
    "\n",
    "src_gis = arcgis.gis.GIS(src_gis_url, src_gis_username, src_gis_password)\n",
    "#src_gis = arcgis.gis.GIS(src_gis_url,client_id='f5nBiaq7vzWKw9Bv')\n",
    "target_gis = arcgis.gis.GIS(target_gis_url, target_gis_username, target_gis_password)\n",
    "print(\"Source Environment: {} @ {}\".format(src_gis._username, src_gis))\n",
    "print(\"Target Environment: {} @ {}\".format(target_gis._username, target_gis))"
   ]
  },
  {
   "cell_type": "markdown",
   "metadata": {},
   "source": [
    "#### Validate how many items are in the group to be copied."
   ]
  },
  {
   "cell_type": "code",
   "execution_count": 2,
   "metadata": {},
   "outputs": [
    {
     "name": "stdout",
     "output_type": "stream",
     "text": [
      "3 Total items in Group to be copied\n"
     ]
    }
   ],
   "source": [
    "src_group = src_gis.groups.get(src_group_id)\n",
    "src_group_content = src_group.content()\n",
    "print(\"{} Total items in Group to be copied\".format(len(src_group_content)))"
   ]
  },
  {
   "cell_type": "markdown",
   "metadata": {},
   "source": [
    "#### Execute the copy! This code below also accounts for hosted tile layers, navigating the item relationship back to the source item, copying that item, and republishing it in the target system.\n"
   ]
  },
  {
   "cell_type": "code",
   "execution_count": 3,
   "metadata": {},
   "outputs": [
    {
     "name": "stdout",
     "output_type": "stream",
     "text": [
      "Copying Item: 401 YM editering - Web Map\n",
      "\t Result: [<Item title:\"Båndlegginssoner\" type:Feature Layer Collection owner:nvadmin>, <Item title:\"401_YM_edit_P_YMLandgangenRugtvedt\" type:Feature Layer Collection owner:nvadmin>, <Item title:\"401_YM_edit_L_YMLandgangenRugtvedt\" type:Feature Layer Collection owner:nvadmin>, <Item title:\"401 YM editering\" type:Web Map owner:nvadmin>]\n",
      "Copying Item: 401_YM_edit_L_YMLandgangenRugtvedt - Feature Service\n",
      "\t Item Already copied\n",
      "Copying Item: 401_YM_edit_P_YMLandgangenRugtvedt - Feature Service\n",
      "\t Item Already copied\n"
     ]
    }
   ],
   "source": [
    "for src_item in src_group_content:\n",
    "    print(\"Copying Item: {} - {}\".format(src_item.title, src_item.type))\n",
    "    try:\n",
    "        #Handle Hosted Tile Layers\n",
    "        if 'Hosted Service' in src_item.typeKeywords and 'Map Service' in src_item.typeKeywords:\n",
    "            if len(target_gis.content.search(\"source-{}\".format(src_item.id)))>0:\n",
    "                print(\"\\t Item Already copied\")\n",
    "                continue\n",
    "            #Clone TPK:\n",
    "            print(\"\\t Hosted Tile Layer found, copying source tile package\")\n",
    "            tpk_result = target_gis.content.clone_items(src_item.related_items('Service2Data'),folder=target_folder_name)\n",
    "            if tpk_result == []:\n",
    "                tpk_result = target_gis.content.search(\"source-{}\".format(src_item.related_items('Service2Data')[0].id))\n",
    "            print(\"\\t Source Tile Package copied as {}\".format(tpk_result[0].id))\n",
    "            print(\"\\t Publishing service...\")\n",
    "            service_result = tpk_result[0].publish(build_initial_cache=True)\n",
    "            service_result.update({\"typeKeywords\":service_result.typeKeywords+[\"source-{}\".format(src_item.id)]})\n",
    "            print(\"\\t Service Result: {}\".format(service_result))\n",
    "        else:\n",
    "            result = target_gis.content.clone_items([src_item],folder=target_folder_name)\n",
    "            if result == []:\n",
    "                print(\"\\t Item Already copied\")\n",
    "            else:\n",
    "                print(\"\\t Result: {}\".format(result))\n",
    "    except Exception as e:\n",
    "        if \"already exists\" in str(e):\n",
    "            print(\"\\tService already copied to target organization\")\n",
    "        else:\n",
    "            print(\"\\t Error copying item: {} -- {} \".format(src_item.title, e))"
   ]
  },
  {
   "cell_type": "code",
   "execution_count": null,
   "metadata": {},
   "outputs": [],
   "source": []
  }
 ],
 "metadata": {
  "kernelspec": {
   "display_name": "Python 3",
   "language": "python",
   "name": "python3"
  },
  "language_info": {
   "codemirror_mode": {
    "name": "ipython",
    "version": 3
   },
   "file_extension": ".py",
   "mimetype": "text/x-python",
   "name": "python",
   "nbconvert_exporter": "python",
   "pygments_lexer": "ipython3",
   "version": "3.7.9"
  }
 },
 "nbformat": 4,
 "nbformat_minor": 4
}
